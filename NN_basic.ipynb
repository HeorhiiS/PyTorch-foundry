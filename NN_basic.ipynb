{
  "nbformat": 4,
  "nbformat_minor": 0,
  "metadata": {
    "colab": {
      "name": "NN_basic.ipynb",
      "provenance": [],
      "authorship_tag": "ABX9TyPElrXIuF9Ef3k7VA8JcuD8"
    },
    "kernelspec": {
      "name": "python3",
      "display_name": "Python 3"
    }
  },
  "cells": [
    {
      "cell_type": "code",
      "metadata": {
        "id": "2QeAvHqGxUyI",
        "colab_type": "code",
        "colab": {}
      },
      "source": [
        "import torch \n"
      ],
      "execution_count": 0,
      "outputs": []
    },
    {
      "cell_type": "code",
      "metadata": {
        "id": "MAr3La0WxaOV",
        "colab_type": "code",
        "colab": {}
      },
      "source": [
        "def activation(x):\n",
        "  '''\n",
        "Sigmoid \n",
        "\n",
        "x: torch.Tensor\n",
        "\n",
        "  '''\n",
        "  return 1/(1+torch.exp(-x))"
      ],
      "execution_count": 0,
      "outputs": []
    },
    {
      "cell_type": "code",
      "metadata": {
        "id": "acc6bGYBYlwX",
        "colab_type": "code",
        "colab": {}
      },
      "source": [
        "#Generate dummy data\n",
        "\n",
        "torch.manual_seed(7)\n",
        "\n",
        "features = torch.randn((1,5)) #input\n",
        "\n",
        "weights = torch.randn_like(features) #weights are derived from features\n",
        "\n",
        "bias = torch.randn((1,1))\n"
      ],
      "execution_count": 0,
      "outputs": []
    },
    {
      "cell_type": "code",
      "metadata": {
        "id": "90uoHMxrbZk2",
        "colab_type": "code",
        "colab": {
          "base_uri": "https://localhost:8080/",
          "height": 69
        },
        "outputId": "c1a3f86a-eaf2-4915-ace4-48697eafd05d"
      },
      "source": [
        "print(torch.mm(features,weights.T)) # .T for transpose same as in numpy\n",
        "#perceptron\n",
        "\n",
        "y_hat = activation(torch.sum(features * weights) + bias) # * operator for element-wise muliplication (Hadamard product) \n",
        "print(y_hat)\n",
        "\n",
        "print(activation(torch.mm(features,weights.T)+bias))\n"
      ],
      "execution_count": 21,
      "outputs": [
        {
          "output_type": "stream",
          "text": [
            "tensor([[-1.9796]])\n",
            "tensor([[0.1595]])\n",
            "tensor([[0.1595]])\n"
          ],
          "name": "stdout"
        }
      ]
    },
    {
      "cell_type": "code",
      "metadata": {
        "id": "tPBrIa0Wb7AK",
        "colab_type": "code",
        "colab": {}
      },
      "source": [
        ""
      ],
      "execution_count": 0,
      "outputs": []
    }
  ]
}